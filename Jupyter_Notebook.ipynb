{
 "cells": [
  {
   "cell_type": "markdown",
   "metadata": {},
   "source": [
    "<center>\n",
    "    <img src=\"https://cf-courses-data.s3.us.cloud-object-storage.appdomain.cloud/IBMDeveloperSkillsNetwork-DS0105EN-SkillsNetwork/labs/Module2/images/SN_web_lightmode.png\" width=\"300\" alt=\"cognitiveclass.ai logo\">\n",
    "</center>\n"
   ]
  },
  {
   "cell_type": "markdown",
   "metadata": {},
   "source": [
    "#### Add your code below following the instructions given in the course\n"
   ]
  },
  {
   "cell_type": "markdown",
   "metadata": {},
   "source": [
    "# Jupyter_Notebook"
   ]
  },
  {
   "cell_type": "markdown",
   "metadata": {},
   "source": [
    "# introduction"
   ]
  },
  {
   "cell_type": "markdown",
   "metadata": {},
   "source": [
    "1. Python\n",
    "2. R\n",
    "3. c+\n",
    "4. SQL\n",
    "5. Julia"
   ]
  },
  {
   "cell_type": "code",
   "execution_count": 7,
   "metadata": {},
   "outputs": [],
   "source": [
    "from IPython.display import Markdown, display\n",
    "table_content = \"| Tool | Description |\\n\" \\\n",
    "               \"|------|-------------|\\n\" \\\n",
    "               \"| Python | A versatile programming language with a rich ecosystem of libraries and frameworks for data manipulation, analysis, and machine learning. |\\n\" \\\n",
    "               \"| R | A language commonly used for statistical analysis, data visualization, and modeling. It has a wide range of packages for data science tasks. |\\n\" \\\n",
    "               \"| SQL | A language used for managing and querying relational databases. Essential for data extraction, transformation, and loading (ETL) processes. |\\n\" \\\n",
    "               \"| Julia | A high-level, high-performance language for numerical and scientific computing, known for its speed and flexibility. |\\n\" \\\n",
    "               \"| Scala | A general-purpose language that runs on the Java Virtual Machine (JVM). Often used in big data processing frameworks like Apache Spark. |\\n\""
   ]
  },
  {
   "cell_type": "markdown",
   "metadata": {},
   "source": [
    "5*2"
   ]
  },
  {
   "cell_type": "code",
   "execution_count": 4,
   "metadata": {},
   "outputs": [
    {
     "data": {
      "text/plain": [
       "18"
      ]
     },
     "execution_count": 4,
     "metadata": {},
     "output_type": "execute_result"
    }
   ],
   "source": [
    "(4+2)*3"
   ]
  },
  {
   "cell_type": "code",
   "execution_count": 5,
   "metadata": {},
   "outputs": [
    {
     "name": "stdout",
     "output_type": "stream",
     "text": [
      "120 minutes is equal to 2.0 hours.\n"
     ]
    }
   ],
   "source": [
    "# Function to convert minutes to hours\n",
    "def convert_minutes_to_hours(minutes):\n",
    "    hours = minutes / 60\n",
    "    return hours\n",
    "\n",
    "# Test the function\n",
    "minutes = 120\n",
    "hours = convert_minutes_to_hours(minutes)\n",
    "print(f\"{minutes} minutes is equal to {hours} hours.\")\n"
   ]
  },
  {
   "cell_type": "code",
   "execution_count": 6,
   "metadata": {},
   "outputs": [
    {
     "data": {
      "text/markdown": [
       "## Objectives\n",
       "\n",
       "- Gain a solid understanding of data science concepts and techniques.\n",
       "- Learn how to manipulate, analyze, and visualize data using Python.\n",
       "- Develop skills in statistical analysis and modeling.\n",
       "- Explore machine learning algorithms and their applications.\n",
       "- Understand best practices for data cleaning, preprocessing, and feature engineering.\n",
       "- Learn how to effectively communicate data-driven insights.\n"
      ],
      "text/plain": [
       "<IPython.core.display.Markdown object>"
      ]
     },
     "metadata": {},
     "output_type": "display_data"
    }
   ],
   "source": [
    "from IPython.display import Markdown, display\n",
    "\n",
    "# Define the objectives\n",
    "objectives = \"## Objectives\\n\\n\" \\\n",
    "             \"- Gain a solid understanding of data science concepts and techniques.\\n\" \\\n",
    "             \"- Learn how to manipulate, analyze, and visualize data using Python.\\n\" \\\n",
    "             \"- Develop skills in statistical analysis and modeling.\\n\" \\\n",
    "             \"- Explore machine learning algorithms and their applications.\\n\" \\\n",
    "             \"- Understand best practices for data cleaning, preprocessing, and feature engineering.\\n\" \\\n",
    "             \"- Learn how to effectively communicate data-driven insights.\\n\"\n",
    "\n",
    "# Display the objectives\n",
    "display(Markdown(objectives))\n"
   ]
  },
  {
   "cell_type": "markdown",
   "metadata": {},
   "source": [
    "# Author: \n",
    "John Doe"
   ]
  },
  {
   "cell_type": "code",
   "execution_count": null,
   "metadata": {},
   "outputs": [],
   "source": []
  }
 ],
 "metadata": {
  "kernelspec": {
   "display_name": "Python 3 (ipykernel)",
   "language": "python",
   "name": "python3"
  },
  "language_info": {
   "codemirror_mode": {
    "name": "ipython",
    "version": 3
   },
   "file_extension": ".py",
   "mimetype": "text/x-python",
   "name": "python",
   "nbconvert_exporter": "python",
   "pygments_lexer": "ipython3",
   "version": "3.10.9"
  }
 },
 "nbformat": 4,
 "nbformat_minor": 4
}
